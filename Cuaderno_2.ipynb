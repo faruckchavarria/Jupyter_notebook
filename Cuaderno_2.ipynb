{
 "cells": [
  {
   "cell_type": "markdown",
   "id": "a483cb9c",
   "metadata": {},
   "source": [
    "# 4. Probando Numpy y Pandas\n",
    "#### a. ¿Campo de aplicación de las librerías Pandas y Numpy?\n",
    "NumPy y Pandas son las librerías de python ideales para análisis de datos y computación numérica. Seguramente también nos enfrentaremos a problemas que no requieren el uso de aprendizaje automático sino sólo el análisis de datos. Por supuesto, también podemos usar estas librerías en estos casos.\n",
    "#### b. Utilizando la hoja de trucos de Numpy, pruebe cada uno de los códigos y \n",
    "muestre los resultados de cada sección:\n",
    "##### Creando arrays\n"
   ]
  },
  {
   "cell_type": "code",
   "execution_count": 4,
   "id": "48a0b13c",
   "metadata": {},
   "outputs": [],
   "source": [
    "import numpy as np\n",
    "a = np.array([1,2,3])\n",
    "b = np.array([(1.5,2,3), (4,5,6)], dtype = float)\n",
    "c = np.array([[(1.5,2,3), (4,5,6)], [(3,2,1), (4,5,6)]], dtype = float)"
   ]
  },
  {
   "cell_type": "markdown",
   "id": "707a074a",
   "metadata": {},
   "source": [
    "### Creando arrays de ceros "
   ]
  },
  {
   "cell_type": "code",
   "execution_count": 10,
   "id": "671d71f4",
   "metadata": {},
   "outputs": [
    {
     "data": {
      "text/plain": [
       "array([[0., 0., 0., 0.],\n",
       "       [0., 0., 0., 0.],\n",
       "       [0., 0., 0., 0.]])"
      ]
     },
     "execution_count": 10,
     "metadata": {},
     "output_type": "execute_result"
    }
   ],
   "source": [
    "np.zeros((3,4)) \n"
   ]
  },
  {
   "cell_type": "markdown",
   "id": "9f38a250",
   "metadata": {},
   "source": [
    "### Creando arrays de uno"
   ]
  },
  {
   "cell_type": "code",
   "execution_count": 12,
   "id": "bd7de0f9",
   "metadata": {},
   "outputs": [
    {
     "data": {
      "text/plain": [
       "array([[[1, 1, 1, 1],\n",
       "        [1, 1, 1, 1],\n",
       "        [1, 1, 1, 1]],\n",
       "\n",
       "       [[1, 1, 1, 1],\n",
       "        [1, 1, 1, 1],\n",
       "        [1, 1, 1, 1]]], dtype=int16)"
      ]
     },
     "execution_count": 12,
     "metadata": {},
     "output_type": "execute_result"
    }
   ],
   "source": [
    "np.ones((2,3,4),dtype=np.int16)"
   ]
  },
  {
   "cell_type": "markdown",
   "id": "bcc99589",
   "metadata": {},
   "source": [
    "### Creando arrays igualado"
   ]
  },
  {
   "cell_type": "code",
   "execution_count": 17,
   "id": "69f4c3d0",
   "metadata": {},
   "outputs": [],
   "source": [
    "d = np.arange(10,25,5)"
   ]
  },
  {
   "cell_type": "code",
   "execution_count": 19,
   "id": "db91430a",
   "metadata": {},
   "outputs": [
    {
     "data": {
      "text/plain": [
       "array([0.  , 0.25, 0.5 , 0.75, 1.  , 1.25, 1.5 , 1.75, 2.  ])"
      ]
     },
     "execution_count": 19,
     "metadata": {},
     "output_type": "execute_result"
    }
   ],
   "source": [
    " np.linspace(0,2,9)"
   ]
  },
  {
   "cell_type": "markdown",
   "id": "e67bbe6c",
   "metadata": {},
   "source": [
    "### Creando arrays constantes, arays con valores random, y de matrices"
   ]
  },
  {
   "cell_type": "code",
   "execution_count": 20,
   "id": "c4bca81c",
   "metadata": {},
   "outputs": [],
   "source": [
    "e = np.full((2,2),7) \n",
    "f = np.eye(2)"
   ]
  },
  {
   "cell_type": "code",
   "execution_count": 22,
   "id": "81384ea1",
   "metadata": {},
   "outputs": [
    {
     "data": {
      "text/plain": [
       "array([[0.23652508, 0.510818  ],\n",
       "       [0.73496005, 0.10276855]])"
      ]
     },
     "execution_count": 22,
     "metadata": {},
     "output_type": "execute_result"
    }
   ],
   "source": [
    "np.random.random((2,2))"
   ]
  },
  {
   "cell_type": "code",
   "execution_count": 23,
   "id": "e9adecf5",
   "metadata": {},
   "outputs": [
    {
     "data": {
      "text/plain": [
       "array([[0., 0.],\n",
       "       [0., 0.],\n",
       "       [0., 0.]])"
      ]
     },
     "execution_count": 23,
     "metadata": {},
     "output_type": "execute_result"
    }
   ],
   "source": [
    " np.empty((3,2))"
   ]
  },
  {
   "cell_type": "markdown",
   "id": "d1f935f5",
   "metadata": {},
   "source": [
    "### Guardado y cargado de disco"
   ]
  },
  {
   "cell_type": "code",
   "execution_count": 24,
   "id": "3d2d5bbb",
   "metadata": {},
   "outputs": [
    {
     "data": {
      "text/plain": [
       "array([1, 2, 3])"
      ]
     },
     "execution_count": 24,
     "metadata": {},
     "output_type": "execute_result"
    }
   ],
   "source": [
    "np.save('my_array', a)\n",
    "np.savez('array.npz', a, b)\n",
    "np.load('my_array.npy')"
   ]
  },
  {
   "cell_type": "markdown",
   "id": "5d1b4577",
   "metadata": {},
   "source": [
    "### Guardado y cargado de archivos de texto"
   ]
  },
  {
   "cell_type": "code",
   "execution_count": 6,
   "id": "958f9531",
   "metadata": {},
   "outputs": [
    {
     "ename": "NameError",
     "evalue": "name 'np' is not defined",
     "output_type": "error",
     "traceback": [
      "\u001b[1;31m---------------------------------------------------------------------------\u001b[0m",
      "\u001b[1;31mNameError\u001b[0m                                 Traceback (most recent call last)",
      "\u001b[1;32m<ipython-input-6-9fdd7007bdd7>\u001b[0m in \u001b[0;36m<module>\u001b[1;34m\u001b[0m\n\u001b[1;32m----> 1\u001b[1;33m \u001b[0mnp\u001b[0m\u001b[1;33m.\u001b[0m\u001b[0mloadtxt\u001b[0m\u001b[1;33m(\u001b[0m\u001b[1;34m\"myfile.txt\"\u001b[0m\u001b[1;33m)\u001b[0m\u001b[1;33m\u001b[0m\u001b[1;33m\u001b[0m\u001b[0m\n\u001b[0m\u001b[0;32m      2\u001b[0m \u001b[0mnp\u001b[0m\u001b[1;33m.\u001b[0m\u001b[0mgenfromtxt\u001b[0m\u001b[1;33m(\u001b[0m\u001b[1;34m\"my_file.csv\"\u001b[0m\u001b[1;33m,\u001b[0m \u001b[0mdelimiter\u001b[0m\u001b[1;33m=\u001b[0m\u001b[1;34m','\u001b[0m\u001b[1;33m)\u001b[0m\u001b[1;33m\u001b[0m\u001b[1;33m\u001b[0m\u001b[0m\n\u001b[0;32m      3\u001b[0m \u001b[0mnp\u001b[0m\u001b[1;33m.\u001b[0m\u001b[0msavetxt\u001b[0m\u001b[1;33m(\u001b[0m\u001b[1;34m\"myarray.txt\"\u001b[0m\u001b[1;33m,\u001b[0m \u001b[0ma\u001b[0m\u001b[1;33m,\u001b[0m \u001b[0mdelimiter\u001b[0m\u001b[1;33m=\u001b[0m\u001b[1;34m\" \"\u001b[0m\u001b[1;33m)\u001b[0m\u001b[1;33m\u001b[0m\u001b[1;33m\u001b[0m\u001b[0m\n",
      "\u001b[1;31mNameError\u001b[0m: name 'np' is not defined"
     ]
    }
   ],
   "source": [
    "np.loadtxt(\"myfile.txt\")\n",
    "np.genfromtxt(\"my_file.csv\", delimiter=',')\n",
    "np.savetxt(\"myarray.txt\", a, delimiter=\" \")"
   ]
  },
  {
   "cell_type": "markdown",
   "id": "a38b0ac4",
   "metadata": {},
   "source": [
    "# Tipos de datos"
   ]
  },
  {
   "cell_type": "code",
   "execution_count": 32,
   "id": "6b556554",
   "metadata": {},
   "outputs": [
    {
     "data": {
      "text/plain": [
       "numpy.int64"
      ]
     },
     "execution_count": 32,
     "metadata": {},
     "output_type": "execute_result"
    }
   ],
   "source": [
    "np.int64 ##prueba de entero de 64 bits"
   ]
  },
  {
   "cell_type": "code",
   "execution_count": 33,
   "id": "00216976",
   "metadata": {},
   "outputs": [
    {
     "data": {
      "text/plain": [
       "numpy.float32"
      ]
     },
     "execution_count": 33,
     "metadata": {},
     "output_type": "execute_result"
    }
   ],
   "source": [
    "np.float32 ##prueba de coma flotante de 32"
   ]
  },
  {
   "cell_type": "code",
   "execution_count": 37,
   "id": "835619b0",
   "metadata": {},
   "outputs": [
    {
     "data": {
      "text/plain": [
       "numpy.complex128"
      ]
     },
     "execution_count": 37,
     "metadata": {},
     "output_type": "execute_result"
    }
   ],
   "source": [
    "np.complex128 ##este nos permite usar valores de tipo coma flotante de mas de 128 bits"
   ]
  },
  {
   "cell_type": "code",
   "execution_count": 41,
   "id": "0e526f3e",
   "metadata": {},
   "outputs": [
    {
     "data": {
      "text/plain": [
       "numpy.bool_"
      ]
     },
     "execution_count": 41,
     "metadata": {},
     "output_type": "execute_result"
    }
   ],
   "source": [
    "np.bool_ ## valores boleanos que nos permite mostrar valores de verdarero y falso"
   ]
  },
  {
   "cell_type": "code",
   "execution_count": 44,
   "id": "44b81233",
   "metadata": {},
   "outputs": [
    {
     "data": {
      "text/plain": [
       "object"
      ]
     },
     "execution_count": 44,
     "metadata": {},
     "output_type": "execute_result"
    }
   ],
   "source": [
    "object ## de tipo objeto"
   ]
  },
  {
   "cell_type": "code",
   "execution_count": 45,
   "id": "978dbcae",
   "metadata": {},
   "outputs": [
    {
     "data": {
      "text/plain": [
       "numpy.bytes_"
      ]
     },
     "execution_count": 45,
     "metadata": {},
     "output_type": "execute_result"
    }
   ],
   "source": [
    "np.string_ ## de tipo string nos permite hacer cadenas"
   ]
  },
  {
   "cell_type": "code",
   "execution_count": 47,
   "id": "6bad045b",
   "metadata": {},
   "outputs": [
    {
     "data": {
      "text/plain": [
       "numpy.str_"
      ]
     },
     "execution_count": 47,
     "metadata": {},
     "output_type": "execute_result"
    }
   ],
   "source": [
    "np.unicode_ ##usando codigo de un mismo tipo"
   ]
  },
  {
   "cell_type": "markdown",
   "id": "eeddf837",
   "metadata": {},
   "source": [
    "### Inspeccion de arrays"
   ]
  },
  {
   "cell_type": "code",
   "execution_count": 27,
   "id": "df467a1c",
   "metadata": {},
   "outputs": [
    {
     "data": {
      "text/plain": [
       "array([[1, 2, 3],\n",
       "       [4, 5, 6]])"
      ]
     },
     "execution_count": 27,
     "metadata": {},
     "output_type": "execute_result"
    }
   ],
   "source": [
    "a.shape \n",
    "len(a) \n",
    "b.ndim \n",
    "e.size\n",
    "b.dtype\n",
    "b.dtype.name\n",
    "b.astype(int) "
   ]
  },
  {
   "cell_type": "markdown",
   "id": "fcb7cd3d",
   "metadata": {},
   "source": [
    "# Pidiendo ayuda"
   ]
  },
  {
   "cell_type": "code",
   "execution_count": 48,
   "id": "e8b4b833",
   "metadata": {},
   "outputs": [
    {
     "name": "stdout",
     "output_type": "stream",
     "text": [
      "Data-type of the array's elements.\n",
      "\n",
      "Parameters\n",
      "----------\n",
      "None\n",
      "\n",
      "Returns\n",
      "-------\n",
      "d : numpy dtype object\n",
      "\n",
      "See Also\n",
      "--------\n",
      "numpy.dtype\n",
      "\n",
      "Examples\n",
      "--------\n",
      ">>> x\n",
      "array([[0, 1],\n",
      "       [2, 3]])\n",
      ">>> x.dtype\n",
      "dtype('int32')\n",
      ">>> type(x.dtype)\n",
      "<type 'numpy.dtype'>\n"
     ]
    }
   ],
   "source": [
    "np.info(np.ndarray.dtype)"
   ]
  },
  {
   "cell_type": "markdown",
   "id": "80c8436a",
   "metadata": {},
   "source": [
    "# arrays matematicos, operaciones aritmeticas"
   ]
  },
  {
   "cell_type": "code",
   "execution_count": 52,
   "id": "8e1ab98f",
   "metadata": {},
   "outputs": [
    {
     "data": {
      "text/plain": [
       "[[-0.5, 0.0, 0.0], [-3.0, -3.0, -3.0]]"
      ]
     },
     "execution_count": 52,
     "metadata": {},
     "output_type": "execute_result"
    }
   ],
   "source": [
    " g = a - b ##sustraccion\n",
    " ([[-0.5, 0. , 0. ],\n",
    " [-3. , -3. , -3. ]])"
   ]
  },
  {
   "cell_type": "code",
   "execution_count": 53,
   "id": "11d6fbf9",
   "metadata": {},
   "outputs": [
    {
     "data": {
      "text/plain": [
       "array([[-0.5,  0. ,  0. ],\n",
       "       [-3. , -3. , -3. ]])"
      ]
     },
     "execution_count": 53,
     "metadata": {},
     "output_type": "execute_result"
    }
   ],
   "source": [
    "np.subtract(a,b) "
   ]
  },
  {
   "cell_type": "code",
   "execution_count": 61,
   "id": "0c94f092",
   "metadata": {},
   "outputs": [
    {
     "data": {
      "text/plain": [
       "array([[2.5, 4. , 6. ],\n",
       "       [5. , 7. , 9. ]])"
      ]
     },
     "execution_count": 61,
     "metadata": {},
     "output_type": "execute_result"
    }
   ],
   "source": [
    "b + a ##Adicion de arrays\n",
    "([[ 2.5, 4. , 6. ],\n",
    "[ 5. , 7. , 9. ]])\n",
    "np.add(b,a) "
   ]
  },
  {
   "cell_type": "code",
   "execution_count": 62,
   "id": "1554202f",
   "metadata": {},
   "outputs": [
    {
     "data": {
      "text/plain": [
       "array([[0.66666667, 1.        , 1.        ],\n",
       "       [0.25      , 0.4       , 0.5       ]])"
      ]
     },
     "execution_count": 62,
     "metadata": {},
     "output_type": "execute_result"
    }
   ],
   "source": [
    "a / b ##Division\n",
    "([[ 0.66666667, 1. , 1. ],\n",
    "[ 0.25 , 0.4 , 0.5 ]])\n",
    "np.divide(a,b)"
   ]
  },
  {
   "cell_type": "code",
   "execution_count": 64,
   "id": "21b3fbf1",
   "metadata": {},
   "outputs": [
    {
     "data": {
      "text/plain": [
       "array([[ 1.5,  4. ,  9. ],\n",
       "       [ 4. , 10. , 18. ]])"
      ]
     },
     "execution_count": 64,
     "metadata": {},
     "output_type": "execute_result"
    }
   ],
   "source": [
    "a * b ##Multiplication\n",
    "([[ 1.5, 4. , 9. ],\n",
    "[ 4. , 10. , 18. ]])\n",
    "np.multiply(a,b)"
   ]
  },
  {
   "cell_type": "code",
   "execution_count": 65,
   "id": "4b615f83",
   "metadata": {},
   "outputs": [
    {
     "data": {
      "text/plain": [
       "array([[  4.48168907,   7.3890561 ,  20.08553692],\n",
       "       [ 54.59815003, 148.4131591 , 403.42879349]])"
      ]
     },
     "execution_count": 65,
     "metadata": {},
     "output_type": "execute_result"
    }
   ],
   "source": [
    "np.exp(b) ##Exponenciacion"
   ]
  },
  {
   "cell_type": "code",
   "execution_count": 67,
   "id": "a7d60f61",
   "metadata": {},
   "outputs": [
    {
     "data": {
      "text/plain": [
       "array([[1.22474487, 1.41421356, 1.73205081],\n",
       "       [2.        , 2.23606798, 2.44948974]])"
      ]
     },
     "execution_count": 67,
     "metadata": {},
     "output_type": "execute_result"
    }
   ],
   "source": [
    "np.sqrt(b) ## raiz cuadrada"
   ]
  },
  {
   "cell_type": "code",
   "execution_count": 69,
   "id": "35832dd6",
   "metadata": {},
   "outputs": [
    {
     "data": {
      "text/plain": [
       "array([0.84147098, 0.90929743, 0.14112001])"
      ]
     },
     "execution_count": 69,
     "metadata": {},
     "output_type": "execute_result"
    }
   ],
   "source": [
    " np.sin(a) ##imprimir senos de una matriz"
   ]
  },
  {
   "cell_type": "code",
   "execution_count": 70,
   "id": "046c1650",
   "metadata": {},
   "outputs": [
    {
     "data": {
      "text/plain": [
       "array([[ 0.0707372 , -0.41614684, -0.9899925 ],\n",
       "       [-0.65364362,  0.28366219,  0.96017029]])"
      ]
     },
     "execution_count": 70,
     "metadata": {},
     "output_type": "execute_result"
    }
   ],
   "source": [
    " np.cos(b) ##coseno de elementos"
   ]
  },
  {
   "cell_type": "code",
   "execution_count": 71,
   "id": "07790f59",
   "metadata": {},
   "outputs": [
    {
     "data": {
      "text/plain": [
       "array([0.        , 0.69314718, 1.09861229])"
      ]
     },
     "execution_count": 71,
     "metadata": {},
     "output_type": "execute_result"
    }
   ],
   "source": [
    " np.log(a) ##logaritmo natural por elementos"
   ]
  },
  {
   "cell_type": "code",
   "execution_count": 73,
   "id": "56baa567",
   "metadata": {},
   "outputs": [
    {
     "data": {
      "text/plain": [
       "array([[7., 7.],\n",
       "       [7., 7.]])"
      ]
     },
     "execution_count": 73,
     "metadata": {},
     "output_type": "execute_result"
    }
   ],
   "source": [
    " e.dot(f) ##Dot product\n",
    "([[ 7., 7.],\n",
    "[ 7., 7.]])"
   ]
  },
  {
   "cell_type": "markdown",
   "id": "4b04d235",
   "metadata": {},
   "source": [
    "# Comparaciones"
   ]
  },
  {
   "cell_type": "code",
   "execution_count": 75,
   "id": "a6a36d8e",
   "metadata": {},
   "outputs": [
    {
     "data": {
      "text/plain": [
       "array([[False,  True,  True],\n",
       "       [False, False, False]])"
      ]
     },
     "execution_count": 75,
     "metadata": {},
     "output_type": "execute_result"
    }
   ],
   "source": [
    "a == b ##Comparación de elementos"
   ]
  },
  {
   "cell_type": "code",
   "execution_count": 76,
   "id": "a4174356",
   "metadata": {},
   "outputs": [
    {
     "data": {
      "text/plain": [
       "array([ True, False, False])"
      ]
     },
     "execution_count": 76,
     "metadata": {},
     "output_type": "execute_result"
    }
   ],
   "source": [
    "a < 2 ##"
   ]
  },
  {
   "cell_type": "code",
   "execution_count": 77,
   "id": "3282c28d",
   "metadata": {},
   "outputs": [
    {
     "data": {
      "text/plain": [
       "False"
      ]
     },
     "execution_count": 77,
     "metadata": {},
     "output_type": "execute_result"
    }
   ],
   "source": [
    " np.array_equal(a, b) ## arrays de comparaciond e elementos"
   ]
  },
  {
   "cell_type": "markdown",
   "id": "2c286572",
   "metadata": {},
   "source": [
    "# Agregar funciones"
   ]
  },
  {
   "cell_type": "code",
   "execution_count": 78,
   "id": "3e3be65a",
   "metadata": {},
   "outputs": [
    {
     "data": {
      "text/plain": [
       "6"
      ]
     },
     "execution_count": 78,
     "metadata": {},
     "output_type": "execute_result"
    }
   ],
   "source": [
    " a.sum() #sumamos los arreglos"
   ]
  },
  {
   "cell_type": "code",
   "execution_count": 79,
   "id": "f03374b6",
   "metadata": {},
   "outputs": [
    {
     "data": {
      "text/plain": [
       "1"
      ]
     },
     "execution_count": 79,
     "metadata": {},
     "output_type": "execute_result"
    }
   ],
   "source": [
    "a.min() #Matris de valor minimo"
   ]
  },
  {
   "cell_type": "code",
   "execution_count": 80,
   "id": "027066df",
   "metadata": {},
   "outputs": [
    {
     "data": {
      "text/plain": [
       "array([4., 5., 6.])"
      ]
     },
     "execution_count": 80,
     "metadata": {},
     "output_type": "execute_result"
    }
   ],
   "source": [
    "b.max(axis=0) #valor máximo de una fila de matriz"
   ]
  },
  {
   "cell_type": "code",
   "execution_count": 81,
   "id": "7c985e88",
   "metadata": {},
   "outputs": [
    {
     "data": {
      "text/plain": [
       "array([[ 1.5,  3.5,  6.5],\n",
       "       [ 4. ,  9. , 15. ]])"
      ]
     },
     "execution_count": 81,
     "metadata": {},
     "output_type": "execute_result"
    }
   ],
   "source": [
    "b.cumsum(axis=1) #suma acumulativa de los elementos"
   ]
  },
  {
   "cell_type": "code",
   "execution_count": 82,
   "id": "60b7f215",
   "metadata": {},
   "outputs": [
    {
     "data": {
      "text/plain": [
       "2.0"
      ]
     },
     "execution_count": 82,
     "metadata": {},
     "output_type": "execute_result"
    }
   ],
   "source": [
    "a.mean() #media"
   ]
  },
  {
   "cell_type": "code",
   "execution_count": 139,
   "id": "ae8c100a",
   "metadata": {},
   "outputs": [
    {
     "data": {
      "text/plain": [
       "3.5"
      ]
     },
     "execution_count": 139,
     "metadata": {},
     "output_type": "execute_result"
    }
   ],
   "source": [
    "np.median(b)"
   ]
  },
  {
   "cell_type": "code",
   "execution_count": 142,
   "id": "6e5ccf92",
   "metadata": {},
   "outputs": [
    {
     "data": {
      "text/plain": [
       "1.0"
      ]
     },
     "execution_count": 142,
     "metadata": {},
     "output_type": "execute_result"
    }
   ],
   "source": [
    "np.corrcoef(a)"
   ]
  },
  {
   "cell_type": "code",
   "execution_count": 92,
   "id": "09ae7e01",
   "metadata": {},
   "outputs": [
    {
     "data": {
      "text/plain": [
       "1.5920810978785667"
      ]
     },
     "execution_count": 92,
     "metadata": {},
     "output_type": "execute_result"
    }
   ],
   "source": [
    "np.std(b) #desviacion standard"
   ]
  },
  {
   "cell_type": "markdown",
   "id": "0d7e346d",
   "metadata": {},
   "source": [
    "# Copiar matrices"
   ]
  },
  {
   "cell_type": "code",
   "execution_count": 94,
   "id": "c100975c",
   "metadata": {},
   "outputs": [],
   "source": [
    "h = a.view() #crear una vista de la matriz con los mismos datos"
   ]
  },
  {
   "cell_type": "code",
   "execution_count": 96,
   "id": "205026b5",
   "metadata": {},
   "outputs": [
    {
     "data": {
      "text/plain": [
       "array([1, 2, 3])"
      ]
     },
     "execution_count": 96,
     "metadata": {},
     "output_type": "execute_result"
    }
   ],
   "source": [
    "np.copy(a) #creamos la copia del array"
   ]
  },
  {
   "cell_type": "code",
   "execution_count": 97,
   "id": "9af8f9a0",
   "metadata": {},
   "outputs": [],
   "source": [
    "h = a.copy() # creando copia profunda de la matriz"
   ]
  },
  {
   "cell_type": "markdown",
   "id": "b5d96825",
   "metadata": {},
   "source": [
    "# Ordenación de matrices\n"
   ]
  },
  {
   "cell_type": "code",
   "execution_count": 98,
   "id": "05a45eae",
   "metadata": {},
   "outputs": [],
   "source": [
    " a.sort() "
   ]
  },
  {
   "cell_type": "code",
   "execution_count": 99,
   "id": "dd94d34c",
   "metadata": {},
   "outputs": [],
   "source": [
    " c.sort(axis=0) "
   ]
  },
  {
   "cell_type": "markdown",
   "id": "087156f6",
   "metadata": {},
   "source": [
    "# Subconjunto, rebanado, indexación"
   ]
  },
  {
   "cell_type": "code",
   "execution_count": 101,
   "id": "96dd7830",
   "metadata": {},
   "outputs": [
    {
     "data": {
      "text/plain": [
       "3"
      ]
     },
     "execution_count": 101,
     "metadata": {},
     "output_type": "execute_result"
    }
   ],
   "source": [
    " a[2] #elija el elemento en el segundo índice Esto es un subconjuto"
   ]
  },
  {
   "cell_type": "code",
   "execution_count": 103,
   "id": "9b039a00",
   "metadata": {},
   "outputs": [
    {
     "data": {
      "text/plain": [
       "6.0"
      ]
     },
     "execution_count": 103,
     "metadata": {},
     "output_type": "execute_result"
    }
   ],
   "source": [
    " b[1,2] #elija el elemento en la fila 1 columna 2(equivalente a b [1] [2])"
   ]
  },
  {
   "cell_type": "code",
   "execution_count": 104,
   "id": "8c2112cc",
   "metadata": {},
   "outputs": [
    {
     "data": {
      "text/plain": [
       "array([1, 2])"
      ]
     },
     "execution_count": 104,
     "metadata": {},
     "output_type": "execute_result"
    }
   ],
   "source": [
    "#Esto es un rebanado\n",
    "a[0:2] #elegir elementos en el índice 0 y 1"
   ]
  },
  {
   "cell_type": "code",
   "execution_count": 105,
   "id": "16cc007e",
   "metadata": {},
   "outputs": [
    {
     "data": {
      "text/plain": [
       "array([2., 5.])"
      ]
     },
     "execution_count": 105,
     "metadata": {},
     "output_type": "execute_result"
    }
   ],
   "source": [
    " b[0:2,1] #elegir elementos en las filas 0 y 1 en la columna 1"
   ]
  },
  {
   "cell_type": "code",
   "execution_count": 106,
   "id": "ef65cc10",
   "metadata": {},
   "outputs": [
    {
     "data": {
      "text/plain": [
       "array([[1.5, 2. , 3. ]])"
      ]
     },
     "execution_count": 106,
     "metadata": {},
     "output_type": "execute_result"
    }
   ],
   "source": [
    " b[:1]  #Seleccionar todos los elementos de la fila 0"
   ]
  },
  {
   "cell_type": "code",
   "execution_count": 107,
   "id": "a5d69274",
   "metadata": {},
   "outputs": [
    {
     "data": {
      "text/plain": [
       "array([[3., 2., 3.],\n",
       "       [4., 5., 6.]])"
      ]
     },
     "execution_count": 107,
     "metadata": {},
     "output_type": "execute_result"
    }
   ],
   "source": [
    " c[1,...] #Lo mismo que [1,:,:]"
   ]
  },
  {
   "cell_type": "code",
   "execution_count": 108,
   "id": "b08f0198",
   "metadata": {},
   "outputs": [
    {
     "data": {
      "text/plain": [
       "array([3, 2, 1])"
      ]
     },
     "execution_count": 108,
     "metadata": {},
     "output_type": "execute_result"
    }
   ],
   "source": [
    " a[ : :-1] #Matriz invertida a"
   ]
  },
  {
   "cell_type": "markdown",
   "id": "2f8bc20d",
   "metadata": {},
   "source": [
    "# Indexación booleana"
   ]
  },
  {
   "cell_type": "code",
   "execution_count": 109,
   "id": "1726bfab",
   "metadata": {},
   "outputs": [
    {
     "data": {
      "text/plain": [
       "array([1])"
      ]
     },
     "execution_count": 109,
     "metadata": {},
     "output_type": "execute_result"
    }
   ],
   "source": [
    " a[a<2]  #Seleccione elementos de menos de 2"
   ]
  },
  {
   "cell_type": "markdown",
   "id": "84510508",
   "metadata": {},
   "source": [
    "# Indexación elegante"
   ]
  },
  {
   "cell_type": "code",
   "execution_count": 110,
   "id": "9a2e1750",
   "metadata": {},
   "outputs": [
    {
     "data": {
      "text/plain": [
       "array([4. , 2. , 6. , 1.5])"
      ]
     },
     "execution_count": 110,
     "metadata": {},
     "output_type": "execute_result"
    }
   ],
   "source": [
    " b[[1, 0, 1, 0],[0, 1, 2, 0]] "
   ]
  },
  {
   "cell_type": "code",
   "execution_count": 111,
   "id": "23c0f521",
   "metadata": {},
   "outputs": [
    {
     "data": {
      "text/plain": [
       "array([[4. , 5. , 6. , 4. ],\n",
       "       [1.5, 2. , 3. , 1.5],\n",
       "       [4. , 5. , 6. , 4. ],\n",
       "       [1.5, 2. , 3. , 1.5]])"
      ]
     },
     "execution_count": 111,
     "metadata": {},
     "output_type": "execute_result"
    }
   ],
   "source": [
    " b[[1, 0, 1, 0]][:,[0,1,2,0]] "
   ]
  },
  {
   "cell_type": "markdown",
   "id": "978cc5b4",
   "metadata": {},
   "source": [
    "# Manipulación de matrices"
   ]
  },
  {
   "cell_type": "code",
   "execution_count": 113,
   "id": "3087f9b8",
   "metadata": {},
   "outputs": [
    {
     "data": {
      "text/plain": [
       "array([[1.5, 2. , 3. ],\n",
       "       [4. , 5. , 6. ]])"
      ]
     },
     "execution_count": 113,
     "metadata": {},
     "output_type": "execute_result"
    }
   ],
   "source": [
    "#Transposición de matriz\n",
    "i = np.transpose(b) #Permutar las dimensiones de la matriz\n",
    "i.T"
   ]
  },
  {
   "cell_type": "code",
   "execution_count": 116,
   "id": "4df0bfd5",
   "metadata": {},
   "outputs": [
    {
     "data": {
      "text/plain": [
       "array([1.5, 2. , 3. , 4. , 5. , 6. ])"
      ]
     },
     "execution_count": 116,
     "metadata": {},
     "output_type": "execute_result"
    }
   ],
   "source": [
    "#Cambiar la forma de la matriz\n",
    "b.ravel() #Aplanar la matriz"
   ]
  },
  {
   "cell_type": "code",
   "execution_count": 117,
   "id": "1108886d",
   "metadata": {},
   "outputs": [
    {
     "data": {
      "text/plain": [
       "array([[-0.5,  0. ],\n",
       "       [ 0. , -3. ],\n",
       "       [-3. , -3. ]])"
      ]
     },
     "execution_count": 117,
     "metadata": {},
     "output_type": "execute_result"
    }
   ],
   "source": [
    "g.reshape(3,-2) #Dale nueva forma, pero no cambies los datos"
   ]
  },
  {
   "cell_type": "code",
   "execution_count": 120,
   "id": "a38777e8",
   "metadata": {},
   "outputs": [],
   "source": [
    "#Agregar / eliminar elementos\n",
    "h.resize((2,6)) #Devuelve una nueva matriz con forma (2,6)"
   ]
  },
  {
   "cell_type": "code",
   "execution_count": 121,
   "id": "4d7ef761",
   "metadata": {},
   "outputs": [
    {
     "data": {
      "text/plain": [
       "array([ 1. ,  2. ,  3. ,  0. ,  0. ,  0. ,  0. ,  0. ,  0. ,  0. ,  0. ,\n",
       "        0. , -0.5,  0. ,  0. , -3. , -3. , -3. ])"
      ]
     },
     "execution_count": 121,
     "metadata": {},
     "output_type": "execute_result"
    }
   ],
   "source": [
    " np.append(h,g) #Agregar elementos a una matriz"
   ]
  },
  {
   "cell_type": "code",
   "execution_count": 122,
   "id": "6f15268d",
   "metadata": {},
   "outputs": [
    {
     "data": {
      "text/plain": [
       "array([1, 5, 2, 3])"
      ]
     },
     "execution_count": 122,
     "metadata": {},
     "output_type": "execute_result"
    }
   ],
   "source": [
    " np.insert(a, 1, 5) #Insertar elementos en una matriz"
   ]
  },
  {
   "cell_type": "code",
   "execution_count": 123,
   "id": "0f5b23eb",
   "metadata": {},
   "outputs": [
    {
     "data": {
      "text/plain": [
       "array([1, 3])"
      ]
     },
     "execution_count": 123,
     "metadata": {},
     "output_type": "execute_result"
    }
   ],
   "source": [
    "np.delete(a,[1]) #Eliminar elementos de una matriz"
   ]
  },
  {
   "cell_type": "markdown",
   "id": "e3a9759b",
   "metadata": {},
   "source": [
    "# Combinando matrices"
   ]
  },
  {
   "cell_type": "code",
   "execution_count": 124,
   "id": "8635050a",
   "metadata": {},
   "outputs": [
    {
     "data": {
      "text/plain": [
       "array([ 1,  2,  3, 10, 15, 20])"
      ]
     },
     "execution_count": 124,
     "metadata": {},
     "output_type": "execute_result"
    }
   ],
   "source": [
    "np.concatenate((a,d),axis=0) #Concatenar matrices"
   ]
  },
  {
   "cell_type": "code",
   "execution_count": 125,
   "id": "421213d8",
   "metadata": {},
   "outputs": [
    {
     "data": {
      "text/plain": [
       "array([[1. , 2. , 3. ],\n",
       "       [1.5, 2. , 3. ],\n",
       "       [4. , 5. , 6. ]])"
      ]
     },
     "execution_count": 125,
     "metadata": {},
     "output_type": "execute_result"
    }
   ],
   "source": [
    "np.vstack((a,b)) #Apilar matrices verticalmente (por filas)"
   ]
  },
  {
   "cell_type": "code",
   "execution_count": 126,
   "id": "e6e4a8c9",
   "metadata": {},
   "outputs": [
    {
     "data": {
      "text/plain": [
       "array([[7., 7.],\n",
       "       [7., 7.],\n",
       "       [1., 0.],\n",
       "       [0., 1.]])"
      ]
     },
     "execution_count": 126,
     "metadata": {},
     "output_type": "execute_result"
    }
   ],
   "source": [
    "np.r_[e,f]  #Stack arrays vertically (row-wise)"
   ]
  },
  {
   "cell_type": "code",
   "execution_count": 127,
   "id": "24a9ca41",
   "metadata": {},
   "outputs": [
    {
     "data": {
      "text/plain": [
       "array([[7., 7., 1., 0.],\n",
       "       [7., 7., 0., 1.]])"
      ]
     },
     "execution_count": 127,
     "metadata": {},
     "output_type": "execute_result"
    }
   ],
   "source": [
    "np.hstack((e,f)) # Apilar matrices horizontalmente (en columnas)"
   ]
  },
  {
   "cell_type": "code",
   "execution_count": 128,
   "id": "fceb1660",
   "metadata": {},
   "outputs": [
    {
     "data": {
      "text/plain": [
       "array([[ 1, 10],\n",
       "       [ 2, 15],\n",
       "       [ 3, 20]])"
      ]
     },
     "execution_count": 128,
     "metadata": {},
     "output_type": "execute_result"
    }
   ],
   "source": [
    "np.column_stack((a,d)) #Cree matrices apiladas en columnas"
   ]
  },
  {
   "cell_type": "code",
   "execution_count": 129,
   "id": "66ba5a00",
   "metadata": {},
   "outputs": [
    {
     "data": {
      "text/plain": [
       "array([[ 1, 10],\n",
       "       [ 2, 15],\n",
       "       [ 3, 20]])"
      ]
     },
     "execution_count": 129,
     "metadata": {},
     "output_type": "execute_result"
    }
   ],
   "source": [
    " np.c_[a,d] #Create stacked column-wise arrays"
   ]
  },
  {
   "cell_type": "markdown",
   "id": "f8dc017e",
   "metadata": {},
   "source": [
    "# División de matrices"
   ]
  },
  {
   "cell_type": "code",
   "execution_count": 130,
   "id": "c785c254",
   "metadata": {},
   "outputs": [
    {
     "data": {
      "text/plain": [
       "[array([1]), array([2]), array([3])]"
      ]
     },
     "execution_count": 130,
     "metadata": {},
     "output_type": "execute_result"
    }
   ],
   "source": [
    " np.hsplit(a,3)  #Divida la matriz horizontalmente en el tercer índice"
   ]
  },
  {
   "cell_type": "code",
   "execution_count": 131,
   "id": "fd25399d",
   "metadata": {},
   "outputs": [
    {
     "data": {
      "text/plain": [
       "[array([[[1.5, 2. , 1. ],\n",
       "         [4. , 5. , 6. ]]]),\n",
       " array([[[3., 2., 3.],\n",
       "         [4., 5., 6.]]])]"
      ]
     },
     "execution_count": 131,
     "metadata": {},
     "output_type": "execute_result"
    }
   ],
   "source": [
    "np.vsplit(c,2)  #Divida la matriz verticalmente en el segundo índice"
   ]
  },
  {
   "cell_type": "code",
   "execution_count": null,
   "id": "d3b1ebcd",
   "metadata": {},
   "outputs": [],
   "source": []
  }
 ],
 "metadata": {
  "kernelspec": {
   "display_name": "Python 3",
   "language": "python",
   "name": "python3"
  },
  "language_info": {
   "codemirror_mode": {
    "name": "ipython",
    "version": 3
   },
   "file_extension": ".py",
   "mimetype": "text/x-python",
   "name": "python",
   "nbconvert_exporter": "python",
   "pygments_lexer": "ipython3",
   "version": "3.8.8"
  }
 },
 "nbformat": 4,
 "nbformat_minor": 5
}
